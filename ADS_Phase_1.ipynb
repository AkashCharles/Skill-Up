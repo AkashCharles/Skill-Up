{
  "nbformat": 4,
  "nbformat_minor": 0,
  "metadata": {
    "colab": {
      "provenance": [],
      "authorship_tag": "ABX9TyOX2x/bgkr026NQEN6tsp6C",
      "include_colab_link": true
    },
    "kernelspec": {
      "name": "python3",
      "display_name": "Python 3"
    },
    "language_info": {
      "name": "python"
    }
  },
  "cells": [
    {
      "cell_type": "markdown",
      "metadata": {
        "id": "view-in-github",
        "colab_type": "text"
      },
      "source": [
        "<a href=\"https://colab.research.google.com/github/AkashCharles/Skill-Up/blob/main/ADS_Phase_1.ipynb\" target=\"_parent\"><img src=\"https://colab.research.google.com/assets/colab-badge.svg\" alt=\"Open In Colab\"/></a>"
      ]
    },
    {
      "cell_type": "markdown",
      "source": [
        "Importing and reading the CSV file"
      ],
      "metadata": {
        "id": "VEidsXkdfO81"
      }
    },
    {
      "cell_type": "code",
      "execution_count": 1,
      "metadata": {
        "id": "22a4hGAZSmDO"
      },
      "outputs": [],
      "source": [
        "import numpy as np\n",
        "import pandas as pd\n",
        "import matplotlib.pyplot as plt"
      ]
    },
    {
      "cell_type": "code",
      "source": [
        "data = pd.read_csv(\"MSFT.csv\")\n",
        "print(\"\\n\")"
      ],
      "metadata": {
        "colab": {
          "base_uri": "https://localhost:8080/"
        },
        "id": "_IyWEMBJTGR6",
        "outputId": "d7c23f8a-f378-4153-f2e0-7c7516542010"
      },
      "execution_count": 13,
      "outputs": [
        {
          "output_type": "stream",
          "name": "stdout",
          "text": [
            "\n",
            "\n"
          ]
        }
      ]
    },
    {
      "cell_type": "markdown",
      "source": [
        "Data Preprocessing\n"
      ],
      "metadata": {
        "id": "dVR01nH7fVon"
      }
    },
    {
      "cell_type": "code",
      "source": [
        "data_cleaned = data.drop_duplicates()  # Remove duplicates\n",
        "data_cleaned = data_cleaned.dropna()   # Remove rows with missing values\n",
        "print(data_cleaned)\n",
        "print(data_cleaned.head())\n"
      ],
      "metadata": {
        "colab": {
          "base_uri": "https://localhost:8080/"
        },
        "id": "1AW4eFcfZha5",
        "outputId": "7fd8fc81-2244-4e7e-839d-52fb75e4c6ab"
      },
      "execution_count": 37,
      "outputs": [
        {
          "output_type": "stream",
          "name": "stdout",
          "text": [
            "            Date        Open        High         Low       Close   Adj Close  \\\n",
            "0     1986-03-13    0.088542    0.101563    0.088542    0.097222    0.062549   \n",
            "1     1986-03-14    0.097222    0.102431    0.097222    0.100694    0.064783   \n",
            "2     1986-03-17    0.100694    0.103299    0.100694    0.102431    0.065899   \n",
            "3     1986-03-18    0.102431    0.103299    0.098958    0.099826    0.064224   \n",
            "4     1986-03-19    0.099826    0.100694    0.097222    0.098090    0.063107   \n",
            "...          ...         ...         ...         ...         ...         ...   \n",
            "8520  2019-12-31  156.770004  157.770004  156.449997  157.699997  157.699997   \n",
            "8521  2020-01-02  158.779999  160.729996  158.330002  160.619995  160.619995   \n",
            "8522  2020-01-03  158.320007  159.949997  158.059998  158.619995  158.619995   \n",
            "8523  2020-01-06  157.080002  159.100006  156.509995  159.029999  159.029999   \n",
            "8524  2020-01-07  159.320007  159.669998  157.330002  157.580002  157.580002   \n",
            "\n",
            "          Volume  \n",
            "0     1031788800  \n",
            "1      308160000  \n",
            "2      133171200  \n",
            "3       67766400  \n",
            "4       47894400  \n",
            "...          ...  \n",
            "8520    18369400  \n",
            "8521    22622100  \n",
            "8522    21116200  \n",
            "8523    20813700  \n",
            "8524    18017762  \n",
            "\n",
            "[8525 rows x 7 columns]\n",
            "         Date      Open      High       Low     Close  Adj Close      Volume\n",
            "0  1986-03-13  0.088542  0.101563  0.088542  0.097222   0.062549  1031788800\n",
            "1  1986-03-14  0.097222  0.102431  0.097222  0.100694   0.064783   308160000\n",
            "2  1986-03-17  0.100694  0.103299  0.100694  0.102431   0.065899   133171200\n",
            "3  1986-03-18  0.102431  0.103299  0.098958  0.099826   0.064224    67766400\n",
            "4  1986-03-19  0.099826  0.100694  0.097222  0.098090   0.063107    47894400\n"
          ]
        }
      ]
    },
    {
      "cell_type": "code",
      "source": [
        "print(data.columns)\n",
        "\n",
        "closing_price = data['Close']\n",
        "\n",
        "print(closing_price.head())\n"
      ],
      "metadata": {
        "colab": {
          "base_uri": "https://localhost:8080/"
        },
        "id": "4PQ9GaxBZoKE",
        "outputId": "47f77b65-6b10-47a1-ffc9-dac1c0dd601e"
      },
      "execution_count": 25,
      "outputs": [
        {
          "output_type": "stream",
          "name": "stdout",
          "text": [
            "Index(['Date', 'Open', 'High', 'Low', 'Close', 'Adj Close', 'Volume'], dtype='object')\n",
            "0    0.097222\n",
            "1    0.100694\n",
            "2    0.102431\n",
            "3    0.099826\n",
            "4    0.098090\n",
            "Name: Close, dtype: float64\n"
          ]
        }
      ]
    },
    {
      "cell_type": "markdown",
      "source": [
        "Feature Engineering\n"
      ],
      "metadata": {
        "id": "1R9rJoH9gLa_"
      }
    },
    {
      "cell_type": "code",
      "source": [
        "data['EMA_10'] = data['Close'].ewm(span=10, adjust=False).mean()\n",
        "\n",
        "data['Rolling_20D_Std'] = data['Close'].rolling(window=20).std()\n",
        "\n",
        "print(data[['EMA_10', 'Rolling_20D_Std']])\n"
      ],
      "metadata": {
        "colab": {
          "base_uri": "https://localhost:8080/"
        },
        "id": "nIKc9OHxfE4y",
        "outputId": "a2037f5f-a46a-4f08-caca-bbb298e0bcf0"
      },
      "execution_count": 39,
      "outputs": [
        {
          "output_type": "stream",
          "name": "stdout",
          "text": [
            "          EMA_10  Rolling_20D_Std\n",
            "0       0.097222              NaN\n",
            "1       0.097853              NaN\n",
            "2       0.098686              NaN\n",
            "3       0.098893              NaN\n",
            "4       0.098747              NaN\n",
            "...          ...              ...\n",
            "8520  156.875304         3.181938\n",
            "8521  157.556157         3.232283\n",
            "8522  157.749582         3.092043\n",
            "8523  157.982385         2.906402\n",
            "8524  157.909225         2.760116\n",
            "\n",
            "[8525 rows x 2 columns]\n"
          ]
        }
      ]
    },
    {
      "cell_type": "markdown",
      "source": [
        "Model Selection and Model Training"
      ],
      "metadata": {
        "id": "pA5H7ed3gkxs"
      }
    },
    {
      "cell_type": "code",
      "source": [
        "from statsmodels.tsa.arima.model import ARIMA\n",
        "\n",
        "model = ARIMA(train_data['Close'], order=(1, 1, 1))\n",
        "model_fit = model.fit()\n",
        "\n",
        "print(model_fit.summary())\n"
      ],
      "metadata": {
        "colab": {
          "base_uri": "https://localhost:8080/"
        },
        "id": "U2IuJhswat4P",
        "outputId": "f4db880b-37e9-4129-d75a-549210e06bbb"
      },
      "execution_count": 32,
      "outputs": [
        {
          "output_type": "stream",
          "name": "stdout",
          "text": [
            "                               SARIMAX Results                                \n",
            "==============================================================================\n",
            "Dep. Variable:                  Close   No. Observations:                 6820\n",
            "Model:                 ARIMA(1, 1, 1)   Log Likelihood               -4862.683\n",
            "Date:                Sun, 01 Oct 2023   AIC                           9731.366\n",
            "Time:                        08:54:45   BIC                           9751.849\n",
            "Sample:                             0   HQIC                          9738.434\n",
            "                               - 6820                                         \n",
            "Covariance Type:                  opg                                         \n",
            "==============================================================================\n",
            "                 coef    std err          z      P>|z|      [0.025      0.975]\n",
            "------------------------------------------------------------------------------\n",
            "ar.L1         -0.3583      0.144     -2.491      0.013      -0.640      -0.076\n",
            "ma.L1          0.3257      0.146      2.229      0.026       0.039       0.612\n",
            "sigma2         0.2437      0.001    199.022      0.000       0.241       0.246\n",
            "===================================================================================\n",
            "Ljung-Box (L1) (Q):                   0.01   Jarque-Bera (JB):            158948.69\n",
            "Prob(Q):                              0.91   Prob(JB):                         0.00\n",
            "Heteroskedasticity (H):             151.19   Skew:                            -0.56\n",
            "Prob(H) (two-sided):                  0.00   Kurtosis:                        26.63\n",
            "===================================================================================\n",
            "\n",
            "Warnings:\n",
            "[1] Covariance matrix calculated using the outer product of gradients (complex-step).\n"
          ]
        }
      ]
    },
    {
      "cell_type": "markdown",
      "source": [
        "Evaluation"
      ],
      "metadata": {
        "id": "_4snSPydgsjm"
      }
    },
    {
      "cell_type": "code",
      "source": [
        "from sklearn.metrics import mean_absolute_error\n",
        "\n",
        "predictions = model_fit.forecast(steps=len(test_data))\n",
        "mae = mean_absolute_error(test_data['Close'], predictions)\n",
        "\n",
        "print(\"Mean Absolute Error (MAE):\", mae)\n"
      ],
      "metadata": {
        "colab": {
          "base_uri": "https://localhost:8080/"
        },
        "id": "bGZ_fD9AcpCE",
        "outputId": "d5070b8e-5eee-480e-815f-a96f1a958748"
      },
      "execution_count": 36,
      "outputs": [
        {
          "output_type": "stream",
          "name": "stdout",
          "text": [
            "Mean Absolute Error (MAE): 41.660530278711995\n"
          ]
        }
      ]
    }
  ]
}